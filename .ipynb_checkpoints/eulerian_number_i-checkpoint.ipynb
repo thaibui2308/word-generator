{
 "cells": [
  {
   "cell_type": "code",
   "execution_count": 1,
   "id": "f98a4016",
   "metadata": {},
   "outputs": [],
   "source": [
    "from sage.combinat.combinat import eulerian_number"
   ]
  },
  {
   "cell_type": "code",
   "execution_count": 2,
   "id": "4d61712a",
   "metadata": {},
   "outputs": [
    {
     "data": {
      "text/plain": [
       "[1, 57, 302, 302, 57, 1]"
      ]
     },
     "execution_count": 2,
     "metadata": {},
     "output_type": "execute_result"
    }
   ],
   "source": [
    "[eulerian_number(6,i) for i in range(6)]"
   ]
  },
  {
   "cell_type": "code",
   "execution_count": 117,
   "id": "1a515442",
   "metadata": {},
   "outputs": [
    {
     "data": {
      "text/plain": [
       "[[1], [-3, 3], [3, -6, 3], [-1, 3, -3, 1]]"
      ]
     },
     "execution_count": 117,
     "metadata": {},
     "output_type": "execute_result"
    }
   ],
   "source": [
    "# create the coefficients for the scaled pascal triangle\n",
    "def create_coefficients(n):\n",
    "    # Define the degree of the expansion\n",
    "    degree = n\n",
    "\n",
    "    # Generate Pascal's Triangle coefficients for (x-y)^n\n",
    "    pascals_triangle = []\n",
    "    for i in range(degree + 1):\n",
    "        row = []\n",
    "        for j in range(i + 1):\n",
    "            coefficient =  binomial(i, j) \n",
    "            row.append(coefficient)\n",
    "        pascals_triangle.append(row)\n",
    "\n",
    "    # create the prototype for the scaled Pascal triangle\n",
    "    proto_triangle = []\n",
    "    proto_triangle = [[1]]\n",
    "    for row_idx in range(1,len(pascals_triangle)-1):        \n",
    "        row_arr = []\n",
    "        for column_idx in range(len(pascals_triangle[row_idx])):\n",
    "            val = pascals_triangle[row_idx][column_idx]*pascals_triangle[n][n-row_idx]\n",
    "            row_arr.append(val)\n",
    "        proto_triangle.append(row_arr)\n",
    "    \n",
    "    proto_triangle.append(pascals_triangle[n])\n",
    "\n",
    "        \n",
    "    # create the scaled triangle:\n",
    "    scaled_triangle = []\n",
    "    for i in range(degree+1):\n",
    "        scaled_row = []\n",
    "        for j in range(i+1):\n",
    "            scaled_row.append(\n",
    "                (-1) ** (i+j) * proto_triangle[i][j] \n",
    "            )\n",
    "        scaled_triangle.append(scaled_row)\n",
    "        \n",
    "#     for idx in range(len(scaled_triangle)):\n",
    "#         print(scaled_triangle[idx])\n",
    "        \n",
    "    return scaled_triangle\n",
    "        \n",
    "create_coefficients(4-1)"
   ]
  },
  {
   "cell_type": "code",
   "execution_count": 99,
   "id": "ad40bc5f",
   "metadata": {},
   "outputs": [],
   "source": [
    "def Euler_i(n,k,i):\n",
    "    count=0\n",
    "    for x in Permutations(n):\n",
    "        if len(x.descents())==k:\n",
    "            if x(1)==i:\n",
    "                count+=1 \n",
    "    return count"
   ]
  },
  {
   "cell_type": "code",
   "execution_count": 102,
   "id": "3a6ae57c",
   "metadata": {},
   "outputs": [
    {
     "data": {
      "text/plain": [
       "1952"
      ]
     },
     "execution_count": 102,
     "metadata": {},
     "output_type": "execute_result"
    }
   ],
   "source": [
    "Euler_i(8,3,5)"
   ]
  },
  {
   "cell_type": "code",
   "execution_count": 118,
   "id": "15be7638",
   "metadata": {},
   "outputs": [],
   "source": [
    "def summation_formula(n,k,i):\n",
    "    count=0\n",
    "    # create coefficient for first i levels\n",
    "    coefficients = create_coefficients(i-1)\n",
    "    for j in range(1,i+1):\n",
    "        string = \"\"\n",
    "        for m in range(1,j+1):\n",
    "            c_jm =coefficients[j-1][m-1]\n",
    "            # use this for presentation\n",
    "#             sign = \"\"\n",
    "#             if c_jm > 0:\n",
    "#                 sign = \"+\" \n",
    "#             string = string + \"{}{}E(n-{},k-{} )\".format(sign,c_jm, j,m-1)\n",
    "#             print(string)\n",
    "\n",
    "            count=count+c_jm *eulerian_number(n-j,k-m+1)\n",
    "    return count"
   ]
  },
  {
   "cell_type": "code",
   "execution_count": 109,
   "id": "3926ad4b",
   "metadata": {},
   "outputs": [
    {
     "data": {
      "text/plain": [
       "1952"
      ]
     },
     "execution_count": 109,
     "metadata": {},
     "output_type": "execute_result"
    }
   ],
   "source": [
    "summation_formula(8,3,5)"
   ]
  },
  {
   "cell_type": "code",
   "execution_count": 110,
   "id": "81bcbe43",
   "metadata": {},
   "outputs": [
    {
     "data": {
      "text/plain": [
       "2176"
      ]
     },
     "execution_count": 110,
     "metadata": {},
     "output_type": "execute_result"
    }
   ],
   "source": [
    "summation_formula(8,3,4)"
   ]
  },
  {
   "cell_type": "code",
   "execution_count": 111,
   "id": "1e61d63f",
   "metadata": {},
   "outputs": [
    {
     "name": "stdout",
     "output_type": "stream",
     "text": [
      "2176\n",
      "2176\n"
     ]
    }
   ],
   "source": [
    "print(Euler_i(8,3,4)) \n",
    "print(summation_formula(8,3,4))"
   ]
  },
  {
   "cell_type": "code",
   "execution_count": 112,
   "id": "67aa139b",
   "metadata": {},
   "outputs": [],
   "source": [
    "def Euler_i_summation(n,k,i):\n",
    "    count=0\n",
    "    for j in range(1,i):\n",
    "        count=count+Euler_i(n-1,k-1,j)-Euler_i(n-1,k,j)\n",
    "    count=count+eulerian_number(n-1,k)\n",
    "    return count"
   ]
  },
  {
   "cell_type": "code",
   "execution_count": 113,
   "id": "3de27faa",
   "metadata": {},
   "outputs": [
    {
     "data": {
      "text/plain": [
       "2176"
      ]
     },
     "execution_count": 113,
     "metadata": {},
     "output_type": "execute_result"
    }
   ],
   "source": [
    "Euler_i_summation(8,3,4)"
   ]
  },
  {
   "cell_type": "code",
   "execution_count": 114,
   "id": "94bda66a",
   "metadata": {},
   "outputs": [
    {
     "name": "stdout",
     "output_type": "stream",
     "text": [
      "3 0 1\n",
      "3 0 2\n",
      "3 1 1\n",
      "3 1 2\n",
      "3 2 1\n",
      "3 2 2\n",
      "4 0 1\n",
      "4 0 2\n",
      "4 0 3\n",
      "4 1 1\n",
      "4 1 2\n",
      "4 1 3\n",
      "4 2 1\n",
      "4 2 2\n",
      "4 2 3\n",
      "4 3 1\n",
      "4 3 2\n",
      "4 3 3\n",
      "5 0 1\n",
      "5 0 2\n",
      "5 0 3\n",
      "5 0 4\n",
      "5 1 1\n",
      "5 1 2\n",
      "5 1 3\n",
      "5 1 4\n",
      "5 2 1\n",
      "5 2 2\n",
      "5 2 3\n",
      "5 2 4\n",
      "5 3 1\n",
      "5 3 2\n",
      "5 3 3\n",
      "5 3 4\n",
      "5 4 1\n",
      "5 4 2\n",
      "5 4 3\n",
      "5 4 4\n",
      "6 0 1\n",
      "6 0 2\n",
      "6 0 3\n",
      "6 0 4\n",
      "6 0 5\n",
      "6 1 1\n",
      "6 1 2\n",
      "6 1 3\n",
      "6 1 4\n",
      "6 1 5\n",
      "6 2 1\n",
      "6 2 2\n",
      "6 2 3\n",
      "6 2 4\n",
      "6 2 5\n",
      "6 3 1\n",
      "6 3 2\n",
      "6 3 3\n",
      "6 3 4\n",
      "6 3 5\n",
      "6 4 1\n",
      "6 4 2\n",
      "6 4 3\n",
      "6 4 4\n",
      "6 4 5\n",
      "6 5 1\n",
      "6 5 2\n",
      "6 5 3\n",
      "6 5 4\n",
      "6 5 5\n",
      "7 0 1\n",
      "7 0 2\n",
      "7 0 3\n",
      "7 0 4\n",
      "7 0 5\n",
      "7 0 6\n",
      "7 1 1\n",
      "7 1 2\n",
      "7 1 3\n",
      "7 1 4\n",
      "7 1 5\n",
      "7 1 6\n",
      "7 2 1\n",
      "7 2 2\n",
      "7 2 3\n",
      "7 2 4\n",
      "7 2 5\n",
      "7 2 6\n",
      "7 3 1\n",
      "7 3 2\n",
      "7 3 3\n",
      "7 3 4\n",
      "7 3 5\n",
      "7 3 6\n",
      "7 4 1\n",
      "7 4 2\n",
      "7 4 3\n",
      "7 4 4\n",
      "7 4 5\n",
      "7 4 6\n",
      "7 5 1\n",
      "7 5 2\n",
      "7 5 3\n",
      "7 5 4\n",
      "7 5 5\n",
      "7 5 6\n",
      "7 6 1\n",
      "7 6 2\n",
      "7 6 3\n",
      "7 6 4\n",
      "7 6 5\n",
      "7 6 6\n",
      "8 0 1\n",
      "8 0 2\n",
      "8 0 3\n",
      "8 0 4\n",
      "8 0 5\n",
      "8 0 6\n",
      "8 0 7\n",
      "8 1 1\n",
      "8 1 2\n",
      "8 1 3\n",
      "8 1 4\n",
      "8 1 5\n",
      "8 1 6\n",
      "8 1 7\n",
      "8 2 1\n",
      "8 2 2\n",
      "8 2 3\n",
      "8 2 4\n",
      "8 2 5\n",
      "8 2 6\n",
      "8 2 7\n",
      "8 3 1\n",
      "8 3 2\n",
      "8 3 3\n",
      "8 3 4\n",
      "8 3 5\n",
      "8 3 6\n",
      "8 3 7\n",
      "8 4 1\n",
      "8 4 2\n",
      "8 4 3\n",
      "8 4 4\n",
      "8 4 5\n",
      "8 4 6\n",
      "8 4 7\n",
      "8 5 1\n",
      "8 5 2\n",
      "8 5 3\n",
      "8 5 4\n",
      "8 5 5\n",
      "8 5 6\n",
      "8 5 7\n",
      "8 6 1\n",
      "8 6 2\n",
      "8 6 3\n",
      "8 6 4\n",
      "8 6 5\n",
      "8 6 6\n",
      "8 6 7\n",
      "8 7 1\n",
      "8 7 2\n",
      "8 7 3\n",
      "8 7 4\n",
      "8 7 5\n",
      "8 7 6\n",
      "8 7 7\n"
     ]
    }
   ],
   "source": [
    "for n in range(3,9):\n",
    "    for k in range(n):\n",
    "        for i in range(1,n+1):\n",
    "            if Euler_i(n,k,i)==summation_formula(n,k,i):\n",
    "                print(n,k,i)\n",
    "            "
   ]
  },
  {
   "cell_type": "code",
   "execution_count": 116,
   "id": "99260920",
   "metadata": {},
   "outputs": [
    {
     "name": "stdout",
     "output_type": "stream",
     "text": [
      "48\n",
      "48\n",
      "48\n"
     ]
    }
   ],
   "source": [
    "print(Euler_i(6,3,3))\n",
    "print(Euler_i_summation(6,3,3))\n",
    "print(Euler_i(6,3,3))"
   ]
  },
  {
   "cell_type": "code",
   "execution_count": null,
   "id": "2ba74baf",
   "metadata": {},
   "outputs": [],
   "source": []
  }
 ],
 "metadata": {
  "kernelspec": {
   "display_name": "SageMath 9.5",
   "language": "sage",
   "name": "sagemath"
  },
  "language_info": {
   "codemirror_mode": {
    "name": "ipython",
    "version": 3
   },
   "file_extension": ".py",
   "mimetype": "text/x-python",
   "name": "python",
   "nbconvert_exporter": "python",
   "pygments_lexer": "ipython3",
   "version": "3.9.9"
  }
 },
 "nbformat": 4,
 "nbformat_minor": 5
}
